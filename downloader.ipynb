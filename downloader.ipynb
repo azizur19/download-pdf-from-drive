{
 "cells": [
  {
   "cell_type": "code",
   "execution_count": null,
   "id": "123a5aa4",
   "metadata": {},
   "outputs": [],
   "source": []
  },
  {
   "cell_type": "code",
   "execution_count": 8,
   "id": "44e00894",
   "metadata": {},
   "outputs": [],
   "source": [
    "import os\n",
    "import time\n",
    "from selenium import webdriver\n",
    "from selenium.webdriver.chrome.options import Options\n",
    "from PIL import Image\n",
    "from fpdf import FPDF\n",
    "from selenium import webdriver\n",
    "from selenium.webdriver.chrome.service import Service\n",
    "from selenium.webdriver.common.by import By\n",
    "from selenium.webdriver.common.keys import Keys\n",
    "from webdriver_manager.chrome import ChromeDriverManager\n",
    "\n",
    "# --- Configuration ---\n",
    "URL = \"https://drive.google.com/file/d/1HoPxGnMhIGcyH3FB6bScTeMty_v3U139/view\"\n",
    "IMG_DIR = \"images\"\n",
    "PDF_FILE = \"diode p4.pdf\"\n",
    "\n",
    "# --- Setup Selenium ---\n",
    "chrome_options = Options()\n",
    "chrome_options.add_argument(\"--start-maximized\")\n",
    "chrome_options.add_argument(\"--disable-blink-features=AutomationControlled\")\n",
    "driver = webdriver.Chrome(service=Service(ChromeDriverManager().install()), options=chrome_options)\n",
    "# driver = webdriver.Chrome(service=Service(r\"C:\\Chrome_Driver\\chromedriver.exe\"), options=chrome_options)\n",
    "driver.get(URL)\n",
    "time.sleep(5)  # wait for page to load\n"
   ]
  },
  {
   "cell_type": "code",
   "execution_count": 9,
   "id": "838b9b12",
   "metadata": {},
   "outputs": [],
   "source": [
    "\n",
    "# --- Step 2: Find divs ---\n",
    "# divs_1 = driver.find_elements(By.XPATH, \"//div[@class='ndfHFb-c4YZDc-cYSp0e-DARUcf']\")\n",
    "divs_2 = driver.find_elements(By.XPATH, \"//div[starts-with(@style, 'padding-bottom:')]\")\n",
    "# divs3 = driver.find_elements(By.XPATH, \"//div[starts-with(@class, 'ndfHFb') and starts-with(@style, 'padding-bottom:')]\")\n",
    "\n",
    "\n",
    "filtered_divs = divs_2\n",
    "# print(f\"Found {len(filtered_divs)} divs\")\n",
    "# len(divs_1), len(divs_2), len(divs3)\n"
   ]
  },
  {
   "cell_type": "code",
   "execution_count": 10,
   "id": "d455ced7",
   "metadata": {},
   "outputs": [
    {
     "name": "stdout",
     "output_type": "stream",
     "text": [
      "[1] Found blob image id: 65f8ce2f-a1c0-40ed-af2c-ed7bf1b1b64f\n",
      "[2] Found blob image id: 48a89d7f-3e96-4cbe-965d-53385e637ad5\n",
      "[3] Found blob image id: 3c9d37fb-0c98-41e5-bbde-b52dcdcf764c\n",
      "[4] Found blob image id: c2158e3c-664a-4ad8-90a3-00d3506f313c\n",
      "[5] Found blob image id: 2b839fc8-b4a1-48be-8394-720a92cdac63\n",
      "[6] Found blob image id: 5cca1f7f-c8de-4e1f-a7e6-3c5b104c72d4\n",
      "[7] Found blob image id: 8c6fa643-5425-4d5e-aac0-daa6685f2014\n",
      "[8] Found blob image id: 708c9579-9de8-4236-a603-48a31d592bd2\n",
      "[9] Found blob image id: 475b4bd2-d2b5-4cfb-983d-a3132bd8b240\n",
      "[10] Found blob image id: 32aaf109-258a-48bc-a3a1-0925b4b58d87\n",
      "[11] Found blob image id: 94446bfe-981d-46f5-9b82-1c25366aaf25\n",
      "[12] Found blob image id: b8834a1b-1591-4fec-8902-dfd27adb0667\n",
      "[13] Found blob image id: 730fcdb6-f669-455d-a6b6-9d8f104b4ea3\n",
      "[14] Found blob image id: ed4828a1-cb39-4f4c-a4f1-e7a4ad7299a7\n",
      "[15] Found blob image id: 293ff931-03f9-4218-90dd-54e73f1d630d\n",
      "[16] Found blob image id: 1ef3d46d-93f0-4173-8af3-a1d4e275e169\n",
      "[17] Found blob image id: 7739e964-1fd6-4979-9743-0b8890f49c4d\n",
      "[18] Found blob image id: 4e21fa94-5fbd-447f-99c3-4073ab8b080a\n",
      "[19] Found blob image id: e2e12b6b-806c-4619-9773-5f0306e37c70\n",
      "[20] Found blob image id: a3758328-c9d0-4ad3-a798-64b81abdae69\n",
      "[21] Found blob image id: 0e088059-4524-479a-8931-5b95fda833e0\n",
      "[22] Found blob image id: 2690ac18-3a8e-47e6-8114-612dacb84270\n",
      "[23] Found blob image id: a3d219cc-080d-47b7-bf05-5d75b828d6a1\n",
      "[24] Found blob image id: ca40bda1-3a8f-46b9-8a73-530987d9a07d\n",
      "[25] Found blob image id: d96854f9-d104-406e-8626-2b7b85bb4eab\n",
      "[26] Found blob image id: f98dbdc3-2881-4a38-8ee6-01847c6e387f\n",
      "[27] Found blob image id: e7fb37e1-914f-4af8-aac9-2f01823d116f\n",
      "[28] Found blob image id: 5cca5798-aa86-4137-aff9-398322872801\n",
      "[29] Found blob image id: a000d27e-b2d7-43ad-bdaf-48c9b87e38ae\n",
      "[30] Found blob image id: a4f412b1-128a-4348-a5cd-4d6cd269ce5c\n",
      "[31] Found blob image id: cc702b65-c323-4419-8a33-8bffe40dcc9a\n",
      "\n",
      "✅ 31 images saved in 'images' folder.\n",
      "\n"
     ]
    }
   ],
   "source": [
    "\n",
    "# --- Step 3: Prepare directory ---\n",
    "os.makedirs(IMG_DIR, exist_ok=True)\n",
    "saved_count = 0\n",
    "\n",
    "# --- Step 4: Process each div ---\n",
    "for idx, div in enumerate(filtered_divs, start=1):\n",
    "    driver.execute_script(\"arguments[0].scrollIntoView();\", div)\n",
    "    time.sleep(0.3)  # give it a moment to load\n",
    "    try:\n",
    "        img_tag = div.find_element(\"tag name\", \"img\")\n",
    "        src = img_tag.get_attribute(\"src\")\n",
    "\n",
    "        if src and src.startswith(\"blob:https://drive.google.com/\"):\n",
    "            img_id = src.split(\"/\")[-1]\n",
    "            print(f\"[{idx}] Found blob image id: {img_id}\")\n",
    "\n",
    "            # Extract image via JavaScript blob conversion\n",
    "            # Create a canvas in JS, draw image, return base64 data\n",
    "            script = \"\"\"\n",
    "                const img = arguments[0];\n",
    "                const canvas = document.createElement('canvas');\n",
    "                canvas.width = img.naturalWidth;\n",
    "                canvas.height = img.naturalHeight;\n",
    "                const ctx = canvas.getContext('2d');\n",
    "                ctx.drawImage(img, 0, 0);\n",
    "                return canvas.toDataURL('image/png');\n",
    "            \"\"\"\n",
    "            img_base64 = driver.execute_script(script, img_tag)\n",
    "\n",
    "            # Decode base64 and save\n",
    "            if img_base64.startswith(\"data:image\"):\n",
    "                import base64\n",
    "                data = base64.b64decode(img_base64.split(\",\")[1])\n",
    "                img_path = os.path.join(IMG_DIR, f\"{idx:03d}.png\")\n",
    "                with open(img_path, \"wb\") as f:\n",
    "                    f.write(data)\n",
    "                saved_count += 1\n",
    "        else:\n",
    "            print(f\"[{idx}] No valid blob image found.\")\n",
    "    except Exception as e:\n",
    "        print(f\"[{idx}] Error: {e}\")\n",
    "\n",
    "print(f\"\\n✅ {saved_count} images saved in '{IMG_DIR}' folder.\\n\")\n"
   ]
  },
  {
   "cell_type": "code",
   "execution_count": 12,
   "id": "e4497986",
   "metadata": {},
   "outputs": [],
   "source": [
    "\n",
    "# --- Cleanup ---\n",
    "driver.quit()\n"
   ]
  },
  {
   "cell_type": "code",
   "execution_count": 11,
   "id": "5a0b6b2a",
   "metadata": {},
   "outputs": [
    {
     "name": "stdout",
     "output_type": "stream",
     "text": [
      "📄 PDF created successfully: diode p4.pdf\n"
     ]
    },
    {
     "name": "stderr",
     "output_type": "stream",
     "text": [
      "C:\\Users\\ASUS\\AppData\\Local\\Temp\\ipykernel_15888\\1571540814.py:15: DeprecationWarning: \"dest\" parameter is deprecated since v2.2.0, unused and will soon be removed\n",
      "  pdf.output(PDF_FILE, \"F\")\n"
     ]
    }
   ],
   "source": [
    "# --- Step 5: Create PDF with actual image size ---\n",
    "# saved_count = len(os.listdir(IMG_DIR))\n",
    "if saved_count > 0:\n",
    "    pdf = FPDF(unit=\"pt\")  # Use points as unit for precise sizing\n",
    "    for i in range(1, saved_count + 1):\n",
    "        img_path = os.path.join(IMG_DIR, f\"{i:03d}.png\")\n",
    "        if os.path.exists(img_path):\n",
    "            image = Image.open(img_path)\n",
    "            w, h = image.size  # size in pixels\n",
    "\n",
    "            # Create a page with the same size as the image\n",
    "            pdf.add_page(orientation='P', format=(w, h))\n",
    "            pdf.image(img_path, 0, 0, w, h)  # keep actual image size\n",
    "\n",
    "    pdf.output(PDF_FILE)\n",
    "    print(f\"📄 PDF created successfully: {PDF_FILE}\")\n",
    "else:\n",
    "    print(\"No images saved. PDF not created.\")\n"
   ]
  },
  {
   "cell_type": "code",
   "execution_count": null,
   "id": "d10138c8",
   "metadata": {},
   "outputs": [],
   "source": []
  },
  {
   "cell_type": "code",
   "execution_count": null,
   "id": "1e03717d",
   "metadata": {},
   "outputs": [],
   "source": []
  }
 ],
 "metadata": {
  "kernelspec": {
   "display_name": "Python 3",
   "language": "python",
   "name": "python3"
  },
  "language_info": {
   "codemirror_mode": {
    "name": "ipython",
    "version": 3
   },
   "file_extension": ".py",
   "mimetype": "text/x-python",
   "name": "python",
   "nbconvert_exporter": "python",
   "pygments_lexer": "ipython3",
   "version": "3.11.3"
  }
 },
 "nbformat": 4,
 "nbformat_minor": 5
}
